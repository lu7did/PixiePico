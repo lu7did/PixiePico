{
 "cells": [
  {
   "cell_type": "markdown",
   "metadata": {},
   "source": [
    "# PixiePico\n",
    "\n",
    "\n",
    "Ham radio FT8 experimental 28 MHz transceiver based on the famous Pixie 7 MHz transceiver kit.\n",
    "\n",
    "\n",
    "\n",
    "![Alt Text](underconstruction.jpg?raw=true \"PixiePico Project under construction\")\n",
    " "
   ]
  },
  {
   "cell_type": "markdown",
   "metadata": {},
   "source": [
    "# Introduction\n",
    "\n",
    "Ham radio is a technical hobby enjoyed by millions of persons worldwide, despite different country specific definitions the overall characterization is about activities performed by individuals interested in:\n",
    "\n",
    "* Understand telecomunications operating procedures.\n",
    "* Perform technical studies.\n",
    "* Experiment with electronics.\n",
    "\n",
    "Ham radio operators uses communcations gear  both home made and commercially made alike. Depending on the technical skills of the operator she might be able to build from relatively simple to very sophisticated gear, the availblity of commercial equipment allows for persons with strong interest in the communications side of the activity to have access to sophisticated equipment as well.\n",
    "\n",
    "As technology advances the ability for relatively novel people to craft their own equipment fades away as it requires a substantial footprint of knowledge, tools and lab equiptments.\n",
    "\n",
    "Still there are opportunities, some of them offered as kits, of relatively simple to medium complexity equipments to be built by beginners.\n",
    "\n",
    "As anybody with some mileage expended in the hobby might testify there is no thrill greater than to build and equipment with our own hands and *communicate* with it thereafter.\n",
    "\n",
    "Ham radio communications spans over a large number of modes, both analog and digital, as well as a significant number of bands, essentially from very large long wave radio frequencies to very tiny microwave frequencies.\n",
    "\n",
    "Still the frequencies commonly referred as *HF* brings the appeal of allowing very long distance communications with relatively simple antenas.\n",
    "\n",
    "In particular, the 28 Mhz (10 meter band) allow a worldwide communication capability with antennas which can be acommodated even on very restricted facilities using relatively low powers (1W or less).\n",
    "\n",
    "A new generation of small signal digital communication modes allows extremely very low power and relatively simple transceivers to allow state of the art digital communications. \n",
    "\n",
    "This project aim for the following goals:\n",
    "\n",
    "* Create an extremely simple yet capable HF transceiver for the 28 MHz band able to withstand small signal digital communications in real conditions.\n",
    "* Use as many low cost and readily available parts and kits to build it.\n",
    "  * Pixie 7 MHz CW transceiver kit.\n",
    "  * rp2040 breakout board.\n",
    "  * Si5351 clock breakout board.\n",
    "* Allow the builder to grow and extend technical skills in a number of domains while building it, such as:\n",
    "  * Basic understanding of the design of the different stages and sub-systems of the transceiver.\n",
    "  * Use of a ARM processor development environment and build chain\n",
    "  * Operate the transceiver with state-of-the-art communications software such as WSJT-X and others.\n",
    "  * Notions of 3D printing design techniques.\n",
    "  * Simple radio station setup procedures.\n",
    "  * Minimum test equipment and building techniques.  \n",
    "* On-the-air evaluation of the transceiver and few operating techniques associated with it.\n",
    "\n",
    "\n"
   ]
  },
  {
   "cell_type": "markdown",
   "metadata": {},
   "source": [
    "## Previous work\n",
    "\n",
    "In a general way that over 50 years of ham radio experimentation leads to this project, but not all activities performed were directly related.\n",
    "There are few, however, that provides quite a leverage in terms of previous experimentation, firmware libraries and the testing of quite a few constructions ideas, a short list of them are:\n",
    "\n",
    "\n",
    "* Pixie\n",
    "Manyfold implementations of the *Pixie* designs over the years, many such design and variants can be seen\n",
    "at my blog sites.\n",
    "\n",
    "* PixiePi\n",
    "A project to create a multipurpose 7 MHz transceiver for digital modes based on the 7 Mhz CW Pixie kit and the Raspberry Pi board and the rpitx library.\n",
    "\n",
    "* OrangeThunder\n",
    "A project to create a multipurpose multimode HF transceiver based on the Raspberry Pi board and the rpitx library.\n",
    "\n",
    "* ADX-rp2040\n",
    "A porting of the *ADX* digital transceiver by Barb (WB2CBA) into the ARM rp2040 architecture, this transceiver is able to operate with suitable software such as WSJT-X on different HF bands. \n",
    "\n",
    "* RDX-rp2040\n",
    "A full implementation of a digital transceiver based on the ARM rp2040 architecture, this transceiver is able to be operated stand alone.\n",
    "\n"
   ]
  },
  {
   "cell_type": "markdown",
   "metadata": {},
   "source": [
    "### Disclaimer\n",
    "\n",
    "This is a pure, non-for-profit, project being performed in the pure ham radio spirit of experimentation, learning and sharing.\n",
    "\n",
    "This project is original in conception and has a significant amount of code developed by me, it does also being built up on top of a giant effort of others to develop the base platform and libraries used.\n",
    "Therefore this code should not be used outside the limits of the license provided and in particular for uses other than ham radio or similar experimental purposes.\n",
    "No fit for any purpose is claimed nor guaranteed, use it at your own risk. The elements used are very common and safe, the skills required very basic and limited, but again, use it at your own risk.\n",
    "Despite being a software enginering professional with access to technology, infrastructure and computing facilities of different sorts  I declare this project has been performed on my own time and equipment."
   ]
  },
  {
   "cell_type": "markdown",
   "metadata": {},
   "source": [
    "\n",
    "### Fair and educated warning\n",
    "\n",
    "This project is based on simple and cheap equipment, extra care is needed in order not to produce\n",
    "unwanted behaviour that could be against your local communications laws as well as making interference\n",
    "to your fellow local hams.\n",
    "Additional filtering might help to improve the clean output.\n",
    "Remember that most national regulations requires the armonics and other spurious outcome to be -30 dB below the fundamental.\n"
   ]
  },
  {
   "cell_type": "markdown",
   "metadata": {},
   "source": [
    "# System design\n",
    "\n",
    "The overall transceiver involves four major blocks of subsystems as shown in the following figure\n",
    "\n",
    "![Alt Text](PixiePico.jpg?raw=true \"PixiePico Block Diagram\")\n",
    "\n",
    "* RF modem\n",
    "Implemented with a modified Pixie HF 7 MHz transceiver kit.\n",
    "* rp2040 board\n",
    "Implemented with a Raspberry Pico ARM rp2040 board with suitable firmware.\n",
    "* DDS (Direct Digital Synthesis)\n",
    "Implemented with a Clock Generator Si5351 break out board.\n",
    "* Custom control board\n",
    "Custom ad-hoc board with the following functions\n",
    "   * +9V to +5V regulator\n",
    "   * RX/TX Switch\n",
    "   * Audio In (LINE-IN) signal\n",
    "\n",
    "Each major block can be built and tested separately, the construction effort is really small as only is required \n",
    "by the custom ad-hoc control board."
   ]
  },
  {
   "cell_type": "markdown",
   "metadata": {},
   "source": [
    "## Pixie 7 MHz CW Transceiver kit\n",
    "\n",
    "The Pixie QRPp Kit (very low power, less than 1W output) transceiver is a very popular DIY project among hams as it is very easy to build, test and operate from the electronic standpoint, yet able to perform some actual limited communications (QSO) over the air.\n",
    "\n",
    "Although really small power can be enough to sustain communications over great distances and therefore not being a per se limiting factor there are other factors in the basic implementation which makes difficult to carry communications except on very favorable conditions.\n",
    "\n",
    "An explanation of how the transceiver work can be found [here](http://w1sye.org/wp-content/uploads/2017/01/NCRC_PixieOperation.pdf).\n",
    "\n",
    "This project starts with a working Pixie transceiver (a cheap kit bought at eBay or other sellers) and to integrate it with other systems to provide the signal generation and other control functionality.\n",
    "\n",
    "Instead of a crystal based signal generation a Si5351 general purpose clock breakout board is used as a DDS, the actual operation of the board is performed by a Raspberry Pico controller among other control functions.\n",
    "\n",
    "The rest of the code deals mostly with the user interface and operating features, among others:\n",
    "\n",
    "* Receive on the selected sub-band depending on the mode.\n",
    "* Transmission controlled by processor.\n",
    "* Capable of operating other digital modes, specially FT4, JT8 and WSPR, with very small modifications.\n",
    "* Open source firmware allow the adaptation to other simple DIY QRP/QRPp projects.\n",
    "\n",
    "\n"
   ]
  },
  {
   "cell_type": "markdown",
   "metadata": {},
   "source": [
    "## Pixie transceiver kit\n",
    "\n",
    "The Pixie transceiver has been implemented using countless strategies, it's actually very easy to implement it \n",
    "using a homemade approach with prototype techniques.\n",
    "\n",
    "However, this project will start with a commercially available kit which can be sourced from many places:\n",
    "\n",
    "* AliExpress\n",
    "* Bangood\n",
    "* eBay\n",
    "* MercadoLibre\n"
   ]
  },
  {
   "cell_type": "markdown",
   "metadata": {},
   "source": [
    "## Pixie kit building\n",
    "\n",
    "The kit needs to be build using the instructions provided by the kit manufacturer, however a 7 MHz CW transceiver \n",
    "isn't the goal of the project but a 28 MHz FT8 one. Therefore, several mods are needed departing from the basic\n",
    "kit building. A typical circuit for the kit might be:\n",
    "\n",
    "![Alt Text](PixiePi_Schematics.jpg?raw=true \"PixiePi Schematics\")\n",
    "\n",
    "This circuit is actually used as a starting point, but some modifications are needed to:\n",
    "\n",
    "* Improve the basic operation.\n",
    "* Prepare the kit to operate in FT8 rather than CW.\n",
    "* Modify the operating frequency from 7 MHz to 28 MHz\n",
    "\n",
    "Some minor modifications are needed while building the Chinese DIY Pixie kit, other versions might vary."
   ]
  },
  {
   "cell_type": "markdown",
   "metadata": {},
   "source": [
    "## Chinese Pixie MODS\n",
    "\n",
    "The following components needs not to be placed when building the kit as there are not going to provide\n",
    "any functionality\n",
    "\n",
    "```\n",
    "* D2 - Diode 1N4001\n",
    "* R6 - R 100K\n",
    "* C8 - C 100nF\n",
    "* W1 - R 47K (var)\n",
    "* D3 - Diode 1N4148\n",
    "* Y1 - Cristal 7.032 MHz\n",
    "\n",
    "```"
   ]
  },
  {
   "cell_type": "markdown",
   "metadata": {},
   "source": [
    "## Recomended MODS\n",
    "\n",
    "The following changes are suggested\n",
    "```\n",
    "* Q1 (9018 custom OEM part) replace by 2N2904\n",
    "* Q2 (8050 custom OEM part) replace by 2N2222\n",
    "```\n"
   ]
  },
  {
   "cell_type": "markdown",
   "metadata": {},
   "source": [
    "## Different connections (Recommended MODS)\n",
    "\n",
    "In order to adapt the kit to perform as the RF modem of this project the following modifications are needed\n",
    "\n",
    "```\n",
    "* Connect Cx=100 nF on the same place than Y1 on the kit.\n",
    "* Connect negative side of D3 diode to the interface board PTT line\n",
    "* The KEY Cut trace from R5 to KEY socket, connect both keyer legs to the socket going into GPIO15 and GPIO13.\n",
    "* Assure all four boards (interface, Pixie, Raspberry Pico and Si5351) share a common ground.\n",
    "* Extract +9V from the Pixie +9V socket, feed LM7805 with it, then feed the Raspberry Pico board with it.\n",
    "```\n",
    "![Alt Text](pixie_pcb.jpg?raw=true \"PixiePi PCB mods\")\n",
    "\n",
    "All additional interface circuitry might be constructed on a prototype perfboard or using the Manhattan\n",
    "technique.\n"
   ]
  },
  {
   "cell_type": "markdown",
   "metadata": {},
   "source": [
    "## Circuit modifications\n",
    "\n",
    "As said the commercially available Pixie Transceiver kit is a CW rig for the 7 MHz band, in this project the intended usage is at 28 MHz for FT8 or other digital modes which requires larger keydown cycle times. The following  modifications are needed.\n",
    "\n",
    "* Modified final low pass filter\n",
    "* Improved PA heat management\n",
    "* Broadcast Interference (BCI) reduction\n"
   ]
  },
  {
   "cell_type": "markdown",
   "metadata": {},
   "source": [
    "### Modified final low pass filter\n",
    "\n",
    "The original circuit comes with a $\\pi$ low pass filter and impedance matching that needs to be redesigned for\n",
    "\n",
    "$Z_{0}=50\\Omega$\n",
    "$f_{0}=28 MHz$\n",
    "\n",
    "In such condition it should provide an RF power of\n",
    "\n",
    "$P_{o}= \\frac {V_{cc}^2}{2 \\dot R_{L}} \\approx 810 mW$\n",
    "\n",
    "Calculating the new values for $C_{1}$ , $C_{2}$ and $L_{1}$ the circuit is left as\n",
    "![Alt Text](PixiePico_LTSpice_PiFilter_Circuit.png?raw=true \"Pi Filter Frequency Response\")\n",
    "\n",
    "The frequency response of the new Pi filter would be\n",
    "\n",
    "![Alt Text](PixiePico_LTSpice_PiFilter_Response.png?raw=true \"Pi Filter Frequency Response\")\n",
    "\n",
    "The new Pixie circuit would be\n",
    "\n",
    "![Alt Text](PixiePico_LTSpice_TX_Circuit.png?raw=true \"Pixie transmitter modified circuit\")\n",
    "\n",
    "The main values of signal in the circuit will be\n",
    "\n",
    "![Alt Text](PixiePico_LTSpice_TX_SignalAnalysis.png?raw=true \"Pixie transmitter signal analysis\")\n",
    "\n",
    "The frequency response by design would be\n",
    "\n",
    "![Alt Text](PixiePico_LTSpice_TX_FFT.png?raw=true \"Pixie transmitter harmonics\")\n",
    "\n",
    "The first harmonic is -20 dB below fundamental, a little bit higher than expected, it needs to be worked out to at least -30 dB, the remaining harmonics are quite adequate.\n"
   ]
  },
  {
   "cell_type": "markdown",
   "metadata": {},
   "source": [
    "### Modified audio filter\n",
    "\n",
    "\n",
    "![Alt Text](PixiePico_LTSpice_AFFilter_Circuit.png?raw=true \"AF in Band Pass Filter\")\n",
    "![Alt Text](PixiePico_LTSpice_AFFilter_SignalAnalysis.png?raw=true \"AF in filter signal analysis\")\n",
    "![Alt Text](PixiePico_LTSpice_AFFilter_FreqAnalysis.png?raw=true \"AF in filter frequency response\")\n"
   ]
  },
  {
   "cell_type": "markdown",
   "metadata": {},
   "source": [
    "### Audio limiter \n",
    "\n",
    "In order for the firmware to detect the frequency with high accuracy an edge detector algorithm will be used,\n",
    "therefore a crisp flank need to be present in the incoming signal.\n",
    "\n",
    "![Alt Text](PixiePico_LTSpice_AFFilterLimiter_Circuit.png?raw=true \"AF Circuit and limiter\")\n",
    "![Alt Text](PixiePico_LTSpice_AFFilterLimiter_SignalAnalysis.png?raw=true \"AF Circuit and limiter\")\n"
   ]
  },
  {
   "cell_type": "markdown",
   "metadata": {},
   "source": [
    "### Improved PA heat management\n",
    "\n",
    "Even operating with a 9V supply the final transistor might become quite hot because of the lonw keydown\n",
    "typically found on digital modes such as FT8 (being WSPR actually worse). Therefore a small heatsink is recommended.\n",
    "Space is very limited on typical kits but a small piece of aluminum might be enough, be aware not to short either L1 nor L3 with it.\n",
    "\n",
    "The keyer transistor Q3 will benefit from a heat sink as well if long keying times are expected.\n",
    "\n",
    "A cooler can be activated using the GPxx line, feed the cooler not from the Raspberry Pico board but from the +5V regulator or external power supply if used.\n"
   ]
  },
  {
   "cell_type": "markdown",
   "metadata": {},
   "source": [
    "\n",
    "\n",
    "### Broadcast Interference (BCI) reduction\n",
    "\n",
    "At some locations the Chinese DIY Pixie kit might be subject to heavy BCI, in order to minimize try to replace R3 from 1K to 47-100 Ohms.\n"
   ]
  },
  {
   "cell_type": "markdown",
   "metadata": {},
   "source": [
    "### Increase power and other features\n",
    "\n",
    "An interesting set of low cost modifications to increase the power, improve efficiency and other enhancements to the original DIY Kit can be found at [link](http://vtenn.com/Blog/?p=1348).\n"
   ]
  },
  {
   "cell_type": "markdown",
   "metadata": {},
   "source": [
    "\n",
    "## Other alternatives\n",
    "\n",
    "Even if the Pixie schematic is used for the project the software could be used directly with other DIY or homebrew popular designs, among others:\n",
    "\n",
    "* [PY2OHH's Curumim](http://py2ohh.w2c.com.br/trx/curumim/curumim.htm)\n",
    "* [NorCal 49'er](http://www.norcalqrp.org/files/49er.pdf)\n",
    "* [Miss Mosquita](https://www.qrpproject.de/Media/pdf/Mosquita40Engl.pdf)\n",
    "* [Mosquito](http://www.qrp.cat/ea3ghs/mosquito.pdf)\n",
    "* [Jersey Fireball](http://www.njqrp.club/fireball40/rev_b/fb40b_manual.pdf)\n",
    "\n",
    "Lots of good QRPp projects can be found at [link](http://www.ncqrpp.org/) or SPRAT magazine [link](http://www.gqrp.com/sprat.htm).\n",
    "\n",
    "### NOT really in the same level than\n",
    "\n",
    "This project isn't a serious alternative to some excellent DIY Kits available in the market, which deliver tons of good features at reasonable cost. This project must be seen as a learning platform enabling a very cheap DIY kit with tons of features their intrisic limitations can not be extended to cover.\n",
    "In particular this kit is NOT a replacement nor an alternative to the following superb kits that I'm aware of:\n",
    "\n",
    "* QRP Lab's (Hans Summers) OCX series.\n",
    "* ADX (Barb WB2CBA) board.\n",
    "* CRKits (Adam Rong's) D4D kit.\n",
    "* QRPGuys's DSB Digital Transceiver.\n",
    "* 4S QRP Group's Cricket 40.\n",
    "* ... and other similar projects ...\n",
    "\n",
    "For all of them do yourself a favor and buy a kit, assemble it and enjoy the experience.\n",
    "Not to mention other relatively higher scale setups such as the BitX, mcHF or minion SDR transceivers.\n"
   ]
  },
  {
   "cell_type": "markdown",
   "metadata": {},
   "source": [
    "# Main processor (ARM rp2040 board)\n",
    "\n",
    "The project relies very heavily on the availability of a low cost, yet very powerful, controller such as the Raspberry Pico board.\n",
    "\n",
    "With a dual core processors running at 100 MHz and over 2 MBytes of flash memory and 256 KBytes of static memory\n",
    "this is a serious platform, outperforming in processing muscle the Arduino Nano platform.\n",
    "\n",
    "The processor performs the following function:\n",
    "\n",
    "* Audio decoding\n",
    "* Direct SSB synthesis control over the Si5351 board.\n",
    "* PTT and other controls.\n",
    "* +3.3V generator for the Si5351 board."
   ]
  },
  {
   "cell_type": "markdown",
   "metadata": {},
   "source": [
    "## rp2040 datasheet\n",
    "\n",
    "[rp2040 Datasheet](https://datasheets.raspberrypi.com/rp2040/rp2040-datasheet.pdf)\n",
    "\n"
   ]
  },
  {
   "cell_type": "markdown",
   "metadata": {},
   "source": [
    "## rp2040 pinout\n",
    "![Alt Text](rp2040-pinout.webp?raw=true \"rp2040 Zero pinout Diagram\")\n",
    "\n",
    "![Alt Text](rp2040Z.jpeg?raw=true \"rp2040 Zero pinout Diagram\")\n",
    "\n",
    "Each GPIO line has several functions which can be seen in the diagram of the larger pinout\n",
    "\n",
    "![Alt Text](pico-pinout.svg?raw=true \"Raspberry pico pinout (larger)\")\n"
   ]
  },
  {
   "cell_type": "markdown",
   "metadata": {},
   "source": [
    "# Firmware"
   ]
  },
  {
   "cell_type": "markdown",
   "metadata": {},
   "source": [
    "\n",
    "## Build chain\n",
    "\n",
    "The development environment used is the Arduino IDE, even with some limitations it's far more easy to setup and operate\n",
    "than the Eclipse IDE alternative and present a much smoother transition from development for the Arduino environment into\n",
    "the rp2040 environment.\n",
    "\n",
    "The usage of the Arduino IDE is based on the [arduino pico core libraries developed by Earle F. Philhower, III](https://github.com/earlephilhower/arduino-pico).\n",
    "\n",
    "In order to install it a tutorial can be found [here](https://www.tomshardware.com/how-to/program-raspberry-pi-pico-with-arduino-ide) or\n",
    "[here](https://www.upesy.com/blogs/tutorials/install-raspberry-pi-pico-on-arduino-ide-software).\n",
    "\n",
    "Basic support\n",
    "\n",
    "* Earl E Philhower rp2040 core porting to Arduino IDE (https://github.com/earlephilhower/arduino-pico)\n",
    "* SI5351 Library by Jason Mildrum (NT7S) - https://github.com/etherkit/Si5351Arduino\n",
    "* Arduino \"Wire.h\" I2C library(built-into arduino ide)\n",
    "* Arduino \"EEPROM.h\" EEPROM Library(built-into arduino ide)\n",
    "\n",
    "Code excerpts gathered from manyfold sources to recognize here, large pieces of code were extracted from former projects\n",
    "\n",
    "* [PixiePi](https://github.com/lu7did/PixiePi).\n",
    "* [Pixino](https://github.com/lu7did/Pixino).\n",
    "* [OrangeThunder](https://github.com/lu7did/OrangeThunder)."
   ]
  },
  {
   "cell_type": "markdown",
   "metadata": {},
   "source": [
    "## Code architecture\n",
    "\n",
    "The main functionality is quite similar to the baseline ADX firmware used, there are three changes needed to adapt the firmware to the rp2040\n",
    "architecture.\n"
   ]
  },
  {
   "cell_type": "markdown",
   "metadata": {},
   "source": [
    "* **I/O**.\n",
    " A mapping between the Arduino I/O pin and the rp2040 GPIO ports has been made, symbolic names were adjusted and coding macros used to replace\n",
    "the primitives to operate it. Proper initialization was initroduces for all ports used.\n"
   ]
  },
  {
   "cell_type": "markdown",
   "metadata": {},
   "source": [
    "* **EEPROM**.\n",
    "The rp2040 based Raspberry Pi Pico board used to host the porting doesn't have EEPROM available, however the arduino core is able to emulate it\n",
    "on flash memory, however additional definitions to initialize and commit values is needed and thus included in the ported code.\n"
   ]
  },
  {
   "cell_type": "markdown",
   "metadata": {},
   "source": [
    "\n",
    "\n",
    "\n",
    "* **Tone frequency counting**.\n",
    "The rp2040 processor lacks the zero cross comparator interrupt used by the ADX transceiver and thus it has been replaced using a firmware\n",
    "definition on one of the PIO of the processor (RISC processor).\n",
    "\n",
    "The code port was made starting with the [ADX_UnO_V1.3](https://github.com/WB2CBA/ADX-UnO-V1.3) as available at the GitHub site by Nov,15th 2022,\n",
    "no automatic synchronization mechanism has been established with it. The overall logic cycle of the firmware can be seen in the following figure.\n",
    "![Alt Text](ADX-rp2040_activity.png \"ADX-rp2040 Activity\")\n",
    "\n",
    "The main functionality is contained in the file ADX_rp2040.ino which is compiled by using the Arduino IDE supplied with the stated\n",
    "libraries, different subsystems are made dependent on configuration directives (#define on the microcode, typically to signal the\n",
    "introduction of a porting segment by means of the #define RP2040 directive) which mades the relevant code segments  to be included\n",
    "or excluded from the build process.\n",
    "\n",
    "```\n",
    "mandatory files\n",
    " \n",
    "ADX_rp2040.ino\n",
    "\n",
    "PIO programming (counting method)\n",
    "\n",
    "freqPIO.cpp\n",
    "freqPIO.pio\n",
    "freqPIO.pio.h\n",
    "\n",
    "\n",
    "```\n"
   ]
  },
  {
   "cell_type": "markdown",
   "metadata": {},
   "source": [
    "## Transmission Algorithms\n",
    "\n",
    "The ADX transceiver by Barb (WB2CBA) owes in part it's popularity to it's simplicity, and no small part of it derives from the very simple, yet effective, way\n",
    "to process incoming audio signals to derive what is the tone being sent by the host program and direct the transmitter to operate at a base\n",
    "frequency plus that tone frequency in order to achieve direct synthesis USB transmission with a very low overhead mechanism which involves little or no\n",
    "DSP programming which can be very taxing for the original Arduino board the transceiver has been designed with.\n",
    "The algorithm comes actually from Burkhard Kainka (DK7JD) [link](http://elektronik-labor.de/HF/SDRtxFSK2.html) cleverly uses the COMPA timer of the\n",
    "ATMEGA328p processor architecture into a very effective frequency meassurement with very little overhead, hardly can be considered a DSP processing, then\n",
    "the information of the frequencies is applied to the frequency output to achieve the digital modulation desired. This can be made because this is a digital\n",
    "transceiver and it's assumed it's used to transmit some form of a weak signal mode such as WSPR, JS8, FT4 or FT8, it can be used for CW and in general with\n",
    "some limitations for any mode where the amplitude carries no information.\n",
    "Unfortunately the rp2040 doesn't have such a good resource, so the frequency needs to be measured using other strategy, this in turns become a great source\n",
    "of experimentation.\n",
    "\n",
    "\n",
    "A PIO processor (16 of them available with the rp2040 architecture) is configured to generate an interrupt with the rising flank of the signal, a high\n",
    "resolution timer (capable of +/- 1 uSec resolution) is used to compute how many ticks can be counted between two sucessive flanks. There is actually no\n",
    "\"zero crossing\" detection as the GPIO isn't capable to trigger interruptions with that condition, but it's triggered when the signal level achieves the\n",
    "ON condition of the input pin. It's assumed the trigger level is the same for all cycles at it is not a signal subject to fading, therefore the frequency\n",
    "can be counted by measuring the time elapsed between similar parts of sucessive cycles.\n",
    "In order for the algorithm to work a signal conditioning needs to be performed by means of external hardware, this can be made either thru a MOSFET or an IC comparato$\n",
    "circuit (see hardware for details).\n",
    "The actual measurement accuracy is in the order of +/- 2 Hz in the worst case, which is accurate enough for digital modes.\n",
    "\n",
    "\n",
    "```\n",
    "\n",
    "Sources of error\n",
    "\n",
    "The counting has +/- 2 Hz error as the start and end of the counting window might include or exclude the starting and ending cycles. Also\n",
    "the trigger point might suffers some variations making the actual timing between sucessive cycles inaccurate. Finally the SNR of the signal\n",
    "might present noises which trigger false counts.\n",
    "\n",
    "```\n"
   ]
  },
  {
   "cell_type": "markdown",
   "metadata": {},
   "source": [
    "# Custom control board\n"
   ]
  },
  {
   "cell_type": "markdown",
   "metadata": {},
   "source": [
    "# Si5351 Clock generator (DDS)\n",
    "![Alt Text](si5351.jpg?raw=true \"Si5351 breakout board\")\n"
   ]
  },
  {
   "cell_type": "markdown",
   "metadata": {},
   "source": [
    "# Hardware\n",
    "\n",
    "![Alt Text](PixiePico_Schematic.png?raw=true \"Pixie Pico Schematic\")\n",
    "\n"
   ]
  },
  {
   "cell_type": "markdown",
   "metadata": {},
   "source": [
    "\n",
    "## Prototype\n",
    "\n",
    "This is a snapshot of the current prototype used to develop and debug this project:\n",
    "\n",
    "![Alt Text](PixiePi_buildprocess.jpg?raw=true \"PixiePi Hardware Prototype during testing\")\n",
    "![Alt Text](PixiePi_Build_001.jpeg?raw=true \"PixiePi Hardware Prototype\")\n",
    "![Alt Text](PixiePi_Build_001.jpeg?raw=true \"PixiePi Hardware Prototype\")\n",
    "\n",
    "\n",
    "\n",
    "\n",
    "\n",
    "\n",
    "\n"
   ]
  },
  {
   "cell_type": "markdown",
   "metadata": {},
   "source": [
    "# Case 3D Design\n",
    "\n",
    "The preliminar 3D design for a project case (with LCD) can be seen as follows\n",
    "[PixiePi 3D Case Design](https://www.thingiverse.com/thing:4153649)\n",
    "\n",
    "**Warning**\n",
    "3D STL file is an unfinished work in progress (see pending at issues)\n"
   ]
  },
  {
   "cell_type": "markdown",
   "metadata": {},
   "source": [
    "# Package requirements\n",
    "\n",
    "In order to develop for the rp2040 firmware a build chain needs to be created\n",
    "\n",
    "```\n",
    "\n",
    "```\n",
    "\n",
    "# Build\n",
    "\n",
    "```\n",
    "``` \n",
    "\n",
    "# Release notes:\n",
    "\n",
    "  * This project requires a hardware board combining:\n",
    "\n",
    "```\n",
    "     - Raspberry Pico.\n",
    "     - Si5351 breakout board\n",
    "     - Pixie Transceiver kit.\n",
    "     - Glueware simple electronics to switch transmitter, connect keyer and others.\n",
    "```\n",
    "\n",
    "  This setup can be used with flrig as the front-end and CAT controller (**headless mode**), it should work with any\n",
    "  other software supporting a Yaesu FT-817 model CAT command set.\n",
    "\n"
   ]
  },
  {
   "cell_type": "markdown",
   "metadata": {},
   "source": [
    "# Operation (OTA)"
   ]
  },
  {
   "cell_type": "markdown",
   "metadata": {},
   "source": [
    "## Headless operation (all controls thru CAT) \n",
    "\n",
    "The kit is designed to be used in headless mode, which is the entire operation setup is controlled by the\n",
    "firmware with little or no modifications allowed in the box in order to simplify the mechanical mounting.\n",
    "\n",
    "When used in Headless mode the transceiver behaviour can still be controlled by using CAT commands\n",
    "see FLRig  and RigCtl usage in the incoming sections.\n"
   ]
  },
  {
   "cell_type": "markdown",
   "metadata": {},
   "source": [
    "## WSPR\n",
    "\n",
    "WSPR can be operated either as a monitoring station or as a beacon.\n",
    "\n",
    "### Monitoring station\n",
    "\n",
    "* Plug the PHONE exit to the LINE-IN entry of a soundcard.\n",
    "* Start the PixiePi program with ./bash/PixiePi.sh (correct frequency to 7074000).\n",
    "* Use WSJTX to monitor, select Mode as WSPR\n",
    "* Ctl-C to terminate.\n",
    "\n",
    "Your mileage might vary depending on local CONDX, antenna available and overall noise floor at your location,\n",
    "some fairly strong signals can be decoded this way, after all it's just a very simple (tiniest imaginable)\n",
    "double conversion receiver at work. Follows an example of a report captured from a WSPR Beacon in PY-Land some\n",
    "500+ miles North of me.\n",
    "\n",
    "![Alt Text](PixiePi_WSPR.jpg?raw=true \"WSJT-X Program using PixiePi as the receiver for WSPR monitoring\")\n",
    "\n",
    "\n",
    "### Beacon station\n",
    "\n",
    "* Run ./bash/PiWSPR.sh (replace your call, grid and power before executing the program).\n",
    "\n",
    "This program will run once, so call it repeatedely with a timing of your choice, WSPR frames align and fire on even minutes.\n",
    "\n",
    "Follows a screen capture of some reports given by the WSPRNet monitoring network[link](http://www.wsprnet.org), a fair distance has been achieved considered\n",
    "the power output were in the order of 200 mW during the tests!\n",
    "\n",
    "![Alt Text](PixiePi_Reports_WSPR.png?raw=true \"Reports from WSPRNet during the test\")\n",
    "![Alt Text](PixiePi_WSPR_sample.jpg?raw=true \"Reports from WSPRNet during the test\")\n"
   ]
  },
  {
   "cell_type": "markdown",
   "metadata": {},
   "source": [
    "\n",
    "## Operating FT8\n",
    "\n",
    "FT8 can be operated either as a monitoring station or as a beacon or as a stand-alone USB transceiver for digital modes (see operating as an\n",
    "USB transceiver below).\n",
    "\n",
    "### Monitoring station\n",
    "\n",
    "Same as WSPR monitoring station but selecting 7074000 as the frequency and FT8 at WSJTX, your mileage might vary\n",
    "depending on local CONDX, antenna settings and overall noise floor at your locations, it's just a very basic\n",
    "transceiver so probably relatively strong signals will be detected.\n",
    "\n",
    "Sample of FT8 receiving:\n",
    "\n",
    "![Alt Text](PixiePi_FT8_sample.jpg?raw=true \"WSJT-X Program using PixiePi as the receiver for FT8 monitoring\")\n",
    "\n",
    "### Beacon station\n",
    "\n",
    "Run pift8 from the rpitx package, simultaneous monitoring and beaconing will require a larger Raspberry Pi in order\n",
    "to accomodate the extra power to run WSJT-X. Sample script can be found at bash/PiFT8.sh\n",
    "\n",
    "Follows a screen capture of some reports given by the PSKReporter monitoring network[link](http://pskreporter.info), a fair distance has been achieved considered\n",
    "the power output were in the order of 200 mW during the tests!\n",
    "\n",
    "![Alt Text](PixiePi_Reports_FT8.png?raw=true \"Reports from PSKReporter network during the test\")\n",
    "![Alt Text](PixiePi_FT8_sample.jpg?raw=true \"Reports from PSKReporter network at 40 meters\")\n",
    "\n",
    "\n"
   ]
  },
  {
   "cell_type": "markdown",
   "metadata": {},
   "source": [
    "# CAT Control\n",
    "\n",
    "CAT control can be performed over the programs of this project as they implement a limited subset of the Yaesu FT-817 CAT Command set.\n",
    "Commands are carried thru an internal pipe (created using the socat package, see bash/pixie.sh script for details) which looks to the\n",
    "controlling program just like a serial port (usually /tmp/tty0).\n",
    "\n",
    "Operated in \"headless\" mode, with no tunning control or LCD display, this feature can be used to operate the transceiver.\n",
    "\n",
    "Two alternatives has been tested:\n"
   ]
  },
  {
   "cell_type": "markdown",
   "metadata": {},
   "source": [
    "## FLRig\n",
    "FLRig can be built on the Raspberry Pi and used to control the PixiePi rig just configuring it as a FT-817 with the serial port as\n",
    "/tmp/ttyv0. The PixiePi program must be up a running and the pipe established when this program is run.\n",
    "Being a graphic X-Window app FLRig is somewhat taxing on resources and might not perform well when using a Raspberry Pi Zero W, however\n",
    "it will run just fine on a Raspberry Pi 3 or higher.\n",
    "\n",
    "![Alt Text](PixiePi_flrig.jpg?raw=true \"Controlling a PixiePi instance using FLRIG\")\n"
   ]
  },
  {
   "cell_type": "markdown",
   "metadata": {},
   "source": [
    "## RigCtl\n",
    "\n",
    "RigCtl is a companion program of the HamLib library, it's main advantage is  a console operation with a very low resources consumption,\n",
    "therefore it can be used on a Raspberry Pi Zero W to control the rig. See bash/pixie.sh in order to understand the way to configure it.\n",
    "\n",
    "The rigctl interface is a server running in the background (rigctld) which can be accessed using a telnet interface at localhost port 4532.\n",
    "\n",
    "See the docs/rigctl_commands.txt for a summary of the commands or visit the Hamlib page for complete documentation, the script \n",
    "PixiePi/bash/pixie.sh has sample on how to implement a pipe based to enable rigctl.\n",
    "\n"
   ]
  },
  {
   "cell_type": "markdown",
   "metadata": {},
   "source": [
    "\n",
    "# Other packages\n",
    "\n",
    "In general the hardware can be used to implement modulation modes proposed by the [rpitx package](https://github.com/F5OEO/rpitx).\n",
    "In some cases the RF chain after the Raspberry Pi needs to be activated, the hardware on this project uses the\n",
    "GPIO12 line as the PTT, some programs might require this line to be activated or deactivated externally.\n",
    "\n",
    "\n",
    "\n",
    "\n"
   ]
  }
 ],
 "metadata": {
  "language_info": {
   "name": "python"
  },
  "orig_nbformat": 4
 },
 "nbformat": 4,
 "nbformat_minor": 2
}
